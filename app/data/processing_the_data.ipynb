{
 "cells": [
  {
   "cell_type": "code",
   "execution_count": 1,
   "metadata": {},
   "outputs": [],
   "source": [
    "import pandas as pd\n",
    "import os\n",
    "from collections import Counter\n",
    "import pickle"
   ]
  },
  {
   "cell_type": "code",
   "execution_count": 2,
   "metadata": {},
   "outputs": [],
   "source": [
    "PATH_TO_TXT = './txt/'\n",
    "fnames = []\n",
    "for i in os.listdir(PATH_TO_TXT):\n",
    "    fnames.append(f'{PATH_TO_TXT}/{i}')"
   ]
  },
  {
   "cell_type": "code",
   "execution_count": 3,
   "metadata": {},
   "outputs": [],
   "source": [
    "def parse_file(fname):\n",
    "    \"\"\"Parses txt files for RRUFF database\"\"\"\n",
    "    _, r_id, _, _, id_ = fname.split('__')\n",
    "    id_ = id_.replace('.txt', '').zfill(4)\n",
    "    d = dict()\n",
    "    x_data = []\n",
    "    y_data = []\n",
    "\n",
    "    with open(fname, 'r') as f:\n",
    "        \n",
    "        data = [i.replace('\\n','') for i in f.readlines()[:-4]]\n",
    "        \n",
    "        d['ID'] = id_ # unique ID/primary key for db\n",
    "\n",
    "        # categorical data\n",
    "        cat_data = [i for i in data if i.startswith('#')] \n",
    "        for i in cat_data:\n",
    "            name, value = i.split('=',1)\n",
    "            name = name.replace('##','')\n",
    "            if name == 'RRUFFID':\n",
    "                d[name] = r_id\n",
    "            else:\n",
    "                d[name] = value\n",
    "        \n",
    "        # Assign None Values if key doesn't exists\n",
    "        if not d.get(\"MEASURED CHEMISTRY\", False):\n",
    "            d[\"MEASURED CHEMISTRY\"] = None\n",
    "        if not d.get(\"IDEAL CHEMISTRY\", False):\n",
    "            d[\"IDEAL CHEMISTRY\"] = None\n",
    "        \n",
    "        # numerical data\n",
    "        last_cat_idx = data.index(cat_data[-1])\n",
    "        num_data = data[last_cat_idx + 1:]\n",
    "        for i in num_data:\n",
    "            x, y = i.split(',')\n",
    "            x_data.append(x)\n",
    "            y_data.append(y)\n",
    "\n",
    "        # Save CSV file with the x,y data\n",
    "        df = pd.DataFrame({'x': x_data, 'y': y_data}, dtype=float)\n",
    "        f_path = f\"./CSV/{d['ID']}_{d['RRUFFID']}_{d['NAMES']}.csv\"\n",
    "        df.to_csv(f_path, index=False)\n",
    "\n",
    "        # Add Path to the dictionary object\n",
    "        d['CSV_PATH'] = f\"./app/data/CSV/{d['ID']}_{d['RRUFFID']}_{d['NAMES']}.csv\"\n",
    "\n",
    "        return d\n"
   ]
  },
  {
   "cell_type": "code",
   "execution_count": 4,
   "metadata": {},
   "outputs": [],
   "source": [
    "files = []\n",
    "for i in fnames:\n",
    "    files.append(parse_file(i))"
   ]
  },
  {
   "cell_type": "code",
   "execution_count": 5,
   "metadata": {},
   "outputs": [
    {
     "name": "stdout",
     "output_type": "stream",
     "text": [
      "[]\n"
     ]
    }
   ],
   "source": [
    "# Check for duplicates in unique ID values\n",
    "f_ids = [i['ID'] for i in files]\n",
    "print([k for k,v in Counter(f_ids).items() if v > 1]) "
   ]
  },
  {
   "cell_type": "code",
   "execution_count": 6,
   "metadata": {},
   "outputs": [],
   "source": [
    "# Save As pickle file\n",
    "with open('./processed_data.pkl', 'wb') as f:\n",
    "    pickle.dump(files, f)"
   ]
  },
  {
   "cell_type": "code",
   "execution_count": 2,
   "metadata": {},
   "outputs": [],
   "source": [
    "# Load the pickle file\n",
    "with open('data.pkl', 'rb') as f:\n",
    "    files = pickle.load(f)"
   ]
  }
 ],
 "metadata": {
  "kernelspec": {
   "display_name": "Python 3",
   "language": "python",
   "name": "python3"
  },
  "language_info": {
   "codemirror_mode": {
    "name": "ipython",
    "version": 3
   },
   "file_extension": ".py",
   "mimetype": "text/x-python",
   "name": "python",
   "nbconvert_exporter": "python",
   "pygments_lexer": "ipython3",
   "version": "3.10.12"
  },
  "orig_nbformat": 4
 },
 "nbformat": 4,
 "nbformat_minor": 2
}
